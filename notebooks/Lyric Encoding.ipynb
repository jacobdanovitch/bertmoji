{
 "cells": [
  {
   "cell_type": "code",
   "execution_count": 1,
   "metadata": {},
   "outputs": [
    {
     "name": "stderr",
     "output_type": "stream",
     "text": [
      "/opt/anaconda3/envs/bertmoji/lib/python3.7/site-packages/tqdm/std.py:658: FutureWarning: The Panel class is removed from pandas. Accessing it from the top-level namespace will also be removed in the next version\n",
      "  from pandas import Panel\n"
     ]
    }
   ],
   "source": [
    "import pandas as pd\n",
    "from tqdm.auto import tqdm; tqdm.pandas()\n",
    "\n",
    "import os\n",
    "import sys; sys.path.insert(0, os.path.abspath('..'))\n",
    "\n",
    "from annoy import AnnoyIndex\n",
    "from overrides import overrides\n",
    "\n",
    "from allennlp.common import Params\n",
    "from allennlp.common.util import JsonDict\n",
    "from allennlp.data import Instance, DatasetReader\n",
    "from allennlp.data.vocabulary import Vocabulary\n",
    "from allennlp.predictors.predictor import Predictor\n",
    "from allennlp.models import Model, load_archive\n",
    "\n",
    "from vibecheck.models import BERTMoji\n",
    "from vibecheck.dataset_readers import TwitterDatasetReader\n",
    "from vibecheck.predictors.knn_predictor import KNNPredictor"
   ]
  },
  {
   "cell_type": "markdown",
   "metadata": {},
   "source": [
    "vocab -> predict -> index -> save"
   ]
  },
  {
   "cell_type": "markdown",
   "metadata": {},
   "source": [
    "## Data"
   ]
  },
  {
   "cell_type": "code",
   "execution_count": 2,
   "metadata": {},
   "outputs": [],
   "source": [
    "DATA_DIR = \"/home/jacobgdt/.cache/spotify_data/\"\n",
    "VOCAB_DIR = os.path.join(DATA_DIR, 'vocab')\n",
    "INDEX_DIR = os.path.join(DATA_DIR, 'index.tree')\n",
    "\n",
    "songs = pd.read_csv('https://storage.googleapis.com/jacobdanovitch/spotify_lyrics/spotify_with_genius.csv')\n",
    "songs = songs[~songs.lyrics.isnull()].reset_index(drop=True)\n",
    "\n",
    "lyrics = songs.lyrics.str.split(pat='\\n{1,2}')"
   ]
  },
  {
   "cell_type": "markdown",
   "metadata": {},
   "source": [
    "## Vocab"
   ]
  },
  {
   "cell_type": "code",
   "execution_count": 3,
   "metadata": {},
   "outputs": [],
   "source": [
    "os.makedirs(VOCAB_DIR, exist_ok=True)\n",
    "\n",
    "with open(os.path.join(VOCAB_DIR, 'track_ids.txt'), 'w') as f:\n",
    "    f.writelines('\\n'.join(songs.track_id.unique()))"
   ]
  },
  {
   "cell_type": "code",
   "execution_count": 4,
   "metadata": {},
   "outputs": [
    {
     "data": {
      "text/plain": [
       "Vocabulary with namespaces:  labels, Size: 7662 || Non Padded Namespaces: {'*tags', '*labels'}"
      ]
     },
     "execution_count": 4,
     "metadata": {},
     "output_type": "execute_result"
    }
   ],
   "source": [
    "vocab = Vocabulary()\n",
    "vocab.set_from_file(os.path.join(VOCAB_DIR, 'track_ids.txt'), is_padded=False, namespace=\"labels\")\n",
    "vocab"
   ]
  },
  {
   "cell_type": "code",
   "execution_count": 5,
   "metadata": {},
   "outputs": [
    {
     "name": "stderr",
     "output_type": "stream",
     "text": [
      "WARNING:root:vocabulary serialization directory /home/jacobgdt/.cache/spotify_data/vocab/vocab is not empty\n"
     ]
    }
   ],
   "source": [
    "vocab.save_to_files(os.path.join(VOCAB_DIR, 'vocab'))"
   ]
  },
  {
   "cell_type": "markdown",
   "metadata": {},
   "source": [
    "## Predictor"
   ]
  },
  {
   "cell_type": "code",
   "execution_count": 3,
   "metadata": {},
   "outputs": [],
   "source": [
    "params = Params.from_file('/home/jacobgdt/bertmoji/experiments/baseline_clf.jsonnet')\n",
    "reader_params = params.pop('dataset_reader')\n",
    "reader = DatasetReader.from_params(reader_params)\n",
    "\n",
    "predictor = KNNPredictor(load_archive('https://jacobdanovitch.blob.core.windows.net/datasets/model.tar.gz', cuda_device=0).model, \n",
    "                        reader,\n",
    "                        os.path.join(VOCAB_DIR, 'vocab'),\n",
    "                        'https://storage.googleapis.com/jacobdanovitch/spotify_lyrics/spotify_with_genius.csv',\n",
    "                        # None, #DATA_DIR+'index.tree',\n",
    ")\n",
    "# predictor._model.eval();"
   ]
  },
  {
   "cell_type": "code",
   "execution_count": 7,
   "metadata": {},
   "outputs": [],
   "source": [
    "import re\n",
    "import numpy as np\n",
    "# from scipy.special import softmax, expit as sigmoid\n",
    "\n",
    "def encode_song(lyrics):\n",
    "    x = [{'query': line} for line in lyrics if line and re.match('^[^\\[].*[^\\]]$', line, flags=re.M)]\n",
    "    if not x: # instrumental\n",
    "        return None\n",
    "    pred = predictor.predict_batch_json(x)\n",
    "    return np.stack([p['logits'] for p in pred]).max(axis=0)"
   ]
  },
  {
   "cell_type": "code",
   "execution_count": 11,
   "metadata": {},
   "outputs": [
    {
     "data": {
      "application/vnd.jupyter.widget-view+json": {
       "model_id": "1c4b1ee278ef4d91980f216805a1ee64",
       "version_major": 2,
       "version_minor": 0
      },
      "text/plain": [
       "HBox(children=(FloatProgress(value=0.0, max=7662.0), HTML(value='')))"
      ]
     },
     "metadata": {},
     "output_type": "display_data"
    },
    {
     "name": "stdout",
     "output_type": "stream",
     "text": [
      "\n"
     ]
    }
   ],
   "source": [
    "encoded = lyrics.progress_apply(encode_song)"
   ]
  },
  {
   "cell_type": "code",
   "execution_count": 16,
   "metadata": {},
   "outputs": [
    {
     "data": {
      "text/plain": [
       "('14msK75pk3pA33pzPVNtBF',\n",
       " array([1.        , 0.03960975, 0.99987054, 0.63999385, 0.01389084,\n",
       "        0.0057368 , 0.01067287, 0.00612334, 0.01035467, 0.99978787,\n",
       "        0.00768574, 0.07313313, 0.490284  , 0.23276588, 0.00912741,\n",
       "        0.00683836, 0.13735737, 0.03423967, 0.00721115, 0.23394252,\n",
       "        0.98473328, 0.03093073, 0.15337715, 0.00703134, 0.02795666,\n",
       "        0.02635283, 0.04038235, 0.01321106, 0.0073832 , 0.01052561,\n",
       "        0.0075404 , 0.01267227, 0.06510044, 0.00816377, 0.01103137,\n",
       "        0.09679794, 0.00549329, 0.02697893, 0.00698734, 0.00605245,\n",
       "        0.005598  , 0.39631853, 0.00546321, 0.99695349, 0.01396334,\n",
       "        0.00556226, 0.00588284, 0.01053785, 0.00768726, 0.00501487]))"
      ]
     },
     "execution_count": 16,
     "metadata": {},
     "output_type": "execute_result"
    }
   ],
   "source": [
    "index_data = [(track, vec) for (track, vec) in zip(songs.track_id, encoded) if vec is not None]\n",
    "pd.DataFrame(index_data, columns=['track_id', 'features']).to_json(os.path.join(DATA_DIR, 'encoded.jsonl'), lines=True, orient='records')\n",
    "\n",
    "index_data[0]"
   ]
  },
  {
   "cell_type": "code",
   "execution_count": 17,
   "metadata": {},
   "outputs": [
    {
     "data": {
      "application/vnd.jupyter.widget-view+json": {
       "model_id": "8ce25445704242c48e40102f17a34789",
       "version_major": 2,
       "version_minor": 0
      },
      "text/plain": [
       "HBox(children=(FloatProgress(value=0.0, max=7652.0), HTML(value='')))"
      ]
     },
     "metadata": {},
     "output_type": "display_data"
    },
    {
     "name": "stdout",
     "output_type": "stream",
     "text": [
      "\n"
     ]
    }
   ],
   "source": [
    "predictor.build_index(INDEX_DIR, index_data)"
   ]
  },
  {
   "cell_type": "code",
   "execution_count": 18,
   "metadata": {},
   "outputs": [
    {
     "name": "stdout",
     "output_type": "stream",
     "text": [
      "Copying file:///home/jacobgdt/.cache/spotify_data/index.tree [Content-Type=application/octet-stream]...\n",
      "- [1 files][  3.2 MiB/  3.2 MiB]                                                \n",
      "Operation completed over 1 objects/3.2 MiB.                                      \n"
     ]
    }
   ],
   "source": [
    "!gsutil cp {INDEX_DIR} gs://jacobdanovitch/spotify_lyrics/index.tree"
   ]
  },
  {
   "cell_type": "code",
   "execution_count": null,
   "metadata": {},
   "outputs": [],
   "source": [
    "predictor.vocab.get_"
   ]
  },
  {
   "cell_type": "markdown",
   "metadata": {},
   "source": [
    "## Predictions"
   ]
  },
  {
   "cell_type": "code",
   "execution_count": 9,
   "metadata": {},
   "outputs": [],
   "source": [
    "predictor.build_index(INDEX_DIR)"
   ]
  },
  {
   "cell_type": "code",
   "execution_count": 5,
   "metadata": {},
   "outputs": [
    {
     "data": {
      "text/plain": [
       "['Atlas - COIN',\n",
       " \"Don't Panic - Coldplay\",\n",
       " 'Fireproof - The National',\n",
       " 'Gravity - A Perfect Circle',\n",
       " 'I Can Be Somebody - Deorro',\n",
       " 'If You Wanna - The Vaccines',\n",
       " 'Knife - Grizzly Bear',\n",
       " 'LITE SPOTS - KAYTRANADA',\n",
       " 'Quit Playing Games (With My Heart) - Backstreet Boys',\n",
       " 'Shimmy - System Of A Down']"
      ]
     },
     "execution_count": 5,
     "metadata": {},
     "output_type": "execute_result"
    }
   ],
   "source": [
    "# query = \"Going to the gym\"\n",
    "#query = \"Out and about\"\n",
    "# query = \"My friend is proposing 💍\"\n",
    "query = \"What's going on\"\n",
    "sorted([f\"{t['track_name']} - {t['artist_name']}\" for t in predictor.predict_json({'query': query})])\n",
    "# predictor.predict_json({'query': query})['logits']"
   ]
  },
  {
   "cell_type": "code",
   "execution_count": 14,
   "metadata": {},
   "outputs": [
    {
     "name": "stdout",
     "output_type": "stream",
     "text": [
      "MIDDLE CHILD - J. Cole\n"
     ]
    },
    {
     "data": {
      "text/plain": [
       "['OTW - Khalid',\n",
       " \"03' Adolescence - J. Cole\",\n",
       " 'Above The Law - Bad Meets Evil',\n",
       " 'Last Call - Kanye West',\n",
       " 'Opportunity Cost - G-Eazy',\n",
       " 'Babylon (feat. Kendrick Lamar) - SZA',\n",
       " \"Let's Go (feat. Big D & Twista) - Trick Daddy\",\n",
       " 'Spice Up Your Life - Spice Girls',\n",
       " 'Jump Off The Roof - Vince Staples',\n",
       " 'One Headlight - The Wallflowers']"
      ]
     },
     "execution_count": 14,
     "metadata": {},
     "output_type": "execute_result"
    }
   ],
   "source": [
    "i = 8\n",
    "print(' - '.join(songs.loc[i, ['track_name', 'artist_name']]))\n",
    "[f\"{t['track_name']} - {t['artist_name']}\" for t in predictor.predict_json({'track_id': songs.track_id[i]})['tracks']]"
   ]
  },
  {
   "cell_type": "code",
   "execution_count": null,
   "metadata": {},
   "outputs": [],
   "source": []
  },
  {
   "cell_type": "code",
   "execution_count": null,
   "metadata": {},
   "outputs": [],
   "source": []
  },
  {
   "cell_type": "code",
   "execution_count": null,
   "metadata": {},
   "outputs": [],
   "source": []
  },
  {
   "cell_type": "code",
   "execution_count": null,
   "metadata": {},
   "outputs": [],
   "source": []
  },
  {
   "cell_type": "code",
   "execution_count": null,
   "metadata": {},
   "outputs": [],
   "source": []
  },
  {
   "cell_type": "code",
   "execution_count": null,
   "metadata": {},
   "outputs": [],
   "source": []
  },
  {
   "cell_type": "code",
   "execution_count": null,
   "metadata": {},
   "outputs": [],
   "source": []
  },
  {
   "cell_type": "code",
   "execution_count": null,
   "metadata": {},
   "outputs": [],
   "source": []
  },
  {
   "cell_type": "code",
   "execution_count": null,
   "metadata": {},
   "outputs": [],
   "source": []
  }
 ],
 "metadata": {
  "kernelspec": {
   "display_name": "Python 3",
   "language": "python",
   "name": "python3"
  },
  "language_info": {
   "codemirror_mode": {
    "name": "ipython",
    "version": 3
   },
   "file_extension": ".py",
   "mimetype": "text/x-python",
   "name": "python",
   "nbconvert_exporter": "python",
   "pygments_lexer": "ipython3",
   "version": "3.7.6"
  }
 },
 "nbformat": 4,
 "nbformat_minor": 4
}
